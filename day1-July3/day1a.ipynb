{
  "nbformat": 4,
  "nbformat_minor": 0,
  "metadata": {
    "colab": {
      "name": "day1a.ipynb",
      "version": "0.3.2",
      "provenance": [],
      "include_colab_link": true
    },
    "kernelspec": {
      "name": "python3",
      "display_name": "Python 3"
    },
    "accelerator": "GPU"
  },
  "cells": [
    {
      "cell_type": "markdown",
      "metadata": {
        "id": "view-in-github",
        "colab_type": "text"
      },
      "source": [
        "[View in Colaboratory](https://colab.research.google.com/github/vish0012/AUAI_final/blob/master/day1-July3/day1a.ipynb)"
      ]
    },
    {
      "metadata": {
        "id": "2GGVdJExKAsD",
        "colab_type": "code",
        "colab": {}
      },
      "cell_type": "code",
      "source": [
        ""
      ],
      "execution_count": 0,
      "outputs": []
    },
    {
      "metadata": {
        "id": "hyTKkD-pmAYx",
        "colab_type": "text"
      },
      "cell_type": "markdown",
      "source": [
        "\n",
        "##This is the first assignment\n",
        "\n",
        "####So trying various sizes\n",
        "\n",
        "######_This is quite small tho_\n"
      ]
    },
    {
      "metadata": {
        "id": "8AnNmWW4M3-2",
        "colab_type": "code",
        "colab": {}
      },
      "cell_type": "code",
      "source": [
        ""
      ],
      "execution_count": 0,
      "outputs": []
    },
    {
      "metadata": {
        "id": "0KjopvfCmoen",
        "colab_type": "text"
      },
      "cell_type": "markdown",
      "source": [
        "So let's put in shome images\n",
        "![College's logo](https://upload.wikimedia.org/wikipedia/en/c/c3/Asia_University_Logo.jpg)\n",
        "\n"
      ]
    }
  ]
}