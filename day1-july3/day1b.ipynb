{
  "nbformat": 4,
  "nbformat_minor": 0,
  "metadata": {
    "colab": {
      "name": "day1b.ipynb",
      "version": "0.3.2",
      "provenance": [],
      "include_colab_link": true
    },
    "kernelspec": {
      "name": "python3",
      "display_name": "Python 3"
    }
  },
  "cells": [
    {
      "cell_type": "markdown",
      "metadata": {
        "id": "view-in-github",
        "colab_type": "text"
      },
      "source": [
        "[View in Colaboratory](https://colab.research.google.com/github/hardikajmani/AUAISummer2018/blob/master/day1-july3/day1b.ipynb)"
      ]
    },
    {
      "metadata": {
        "id": "3P0eZcQzpXEg",
        "colab_type": "code",
        "colab": {}
      },
      "cell_type": "code",
      "source": [
        ""
      ],
      "execution_count": 0,
      "outputs": []
    },
    {
      "metadata": {
        "id": "f0U21ICGpb6e",
        "colab_type": "text"
      },
      "cell_type": "markdown",
      "source": [
        "#Second Assignment for the day\n",
        "\n",
        "###Listing new terms and introducing a kaggle case\n"
      ]
    },
    {
      "metadata": {
        "id": "4uFDt9WopuXh",
        "colab_type": "text"
      },
      "cell_type": "markdown",
      "source": [
        "###AI terms\n",
        "\n",
        "1. Machine Learning\n",
        "    * Supervised Learning\n",
        "    * Unsupervised Learning\n",
        "2. Deep Learning\n",
        "    * RNN\n",,
        "    * CNN\n",
        "    * Perceptron"
      ]
    },
    {
      "metadata": {
        "id": "ljhAGfMWqMuy",
        "colab_type": "text"
      },
      "cell_type": "markdown",
      "source": [
        "## Kaggle problem\n",
        "\n",
        "###Titanic: Machine Learning from Disaster\n",
        "####Start here! Predict survival on the Titanic and get familiar with ML basics\n",
        "* [Here's the question link](https://www.kaggle.com/c/titanic)\n",
        "\n",
        "* [Dataset](https://www.kaggle.com/c/titanic/data)\n",
        "\n",
        "* [LeaderBoard](https://www.kaggle.com/c/titanic/leaderboard)\n",
        "\n"
      ]
    }
  ]
}
